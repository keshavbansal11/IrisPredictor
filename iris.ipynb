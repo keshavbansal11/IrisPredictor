{
 "cells": [
  {
   "cell_type": "code",
   "execution_count": 74,
   "metadata": {},
   "outputs": [
    {
     "name": "stdout",
     "output_type": "stream",
     "text": [
      "Enter the sepal length in cm(between 4.9 and 7.3): 5.6\n",
      "Enter the sepal width in cm(between 2.0 and 4.4): 28\n",
      "Enter the petal length in cm(between 1.0 and 6.9): 5.9\n",
      "Enter the petal width in cm(between 0.1 and 2.5): 1.6\n"
     ]
    }
   ],
   "source": [
    "import numpy as np\n",
    "s_length=float(input(\"Enter the sepal length in cm(between 4.9 and 7.3): \"))\n",
    "s_width=float(input(\"Enter the sepal width in cm(between 2.0 and 4.4): \"))\n",
    "p_length=float(input(\"Enter the petal length in cm(between 1.0 and 6.9): \"))\n",
    "p_width=float(input(\"Enter the petal width in cm(between 0.1 and 2.5): \"))\n",
    "a=[[s_length,s_width,p_length,p_width]]"
   ]
  },
  {
   "cell_type": "code",
   "execution_count": 40,
   "metadata": {},
   "outputs": [],
   "source": [
    "import pandas as pd\n",
    "df=pd.read_csv(\"iris.data\")\n",
    "x=df[['5.1','3.5','1.4','0.2']].values\n",
    "y=df[['Iris-setosa']].values.ravel()"
   ]
  },
  {
   "cell_type": "code",
   "execution_count": 54,
   "metadata": {},
   "outputs": [
    {
     "name": "stdout",
     "output_type": "stream",
     "text": [
      "train set:  (111, 4) (111,)\n",
      "test set:  (38, 4) (38,)\n"
     ]
    }
   ],
   "source": [
    "from sklearn.model_selection import train_test_split\n",
    "x_train,x_test,y_train,y_test=train_test_split(x,y,random_state=42)\n",
    "print(\"train set: \",x_train.shape,y_train.shape)\n",
    "print(\"test set: \",x_test.shape,y_test.shape)"
   ]
  },
  {
   "cell_type": "code",
   "execution_count": 28,
   "metadata": {},
   "outputs": [
    {
     "data": {
      "text/plain": [
       "KNeighborsClassifier(algorithm='auto', leaf_size=30, metric='minkowski',\n",
       "           metric_params=None, n_jobs=None, n_neighbors=4, p=2,\n",
       "           weights='uniform')"
      ]
     },
     "execution_count": 28,
     "metadata": {},
     "output_type": "execute_result"
    }
   ],
   "source": [
    "from sklearn.neighbors import KNeighborsClassifier\n",
    "k=4\n",
    "neigh=KNeighborsClassifier(n_neighbors=k).fit(x_train,y_train)\n",
    "neigh"
   ]
  },
  {
   "cell_type": "code",
   "execution_count": 75,
   "metadata": {},
   "outputs": [
    {
     "name": "stdout",
     "output_type": "stream",
     "text": [
      "['Iris-setosa']\n"
     ]
    }
   ],
   "source": [
    "yhat=neigh.predict(a)\n",
    "print(yhat)"
   ]
  },
  {
   "cell_type": "code",
   "execution_count": 76,
   "metadata": {},
   "outputs": [
    {
     "name": "stdout",
     "output_type": "stream",
     "text": [
      "train set accuracy:  0.9819819819819819\n"
     ]
    }
   ],
   "source": [
    "from sklearn import metrics\n",
    "print(\"train set accuracy: \",metrics.accuracy_score(y_train,neigh.predict(x_train)))"
   ]
  },
  {
   "cell_type": "code",
   "execution_count": 77,
   "metadata": {},
   "outputs": [
    {
     "data": {
      "text/plain": [
       "['iris_model.pkl']"
      ]
     },
     "execution_count": 77,
     "metadata": {},
     "output_type": "execute_result"
    }
   ],
   "source": [
    "from sklearn.externals import joblib\n",
    "joblib.dump(neigh,'iris_model.pkl')"
   ]
  },
  {
   "cell_type": "code",
   "execution_count": 78,
   "metadata": {},
   "outputs": [
    {
     "data": {
      "text/plain": [
       "array(['Iris-setosa'], dtype=object)"
      ]
     },
     "execution_count": 78,
     "metadata": {},
     "output_type": "execute_result"
    }
   ],
   "source": [
    "import numpy as np\n",
    "model=joblib.load('iris_model.pkl')\n",
    "model.predict(a)"
   ]
  }
 ],
 "metadata": {
  "kernelspec": {
   "display_name": "Python 3",
   "language": "python",
   "name": "python3"
  },
  "language_info": {
   "codemirror_mode": {
    "name": "ipython",
    "version": 3
   },
   "file_extension": ".py",
   "mimetype": "text/x-python",
   "name": "python",
   "nbconvert_exporter": "python",
   "pygments_lexer": "ipython3",
   "version": "3.6.8"
  }
 },
 "nbformat": 4,
 "nbformat_minor": 2
}
